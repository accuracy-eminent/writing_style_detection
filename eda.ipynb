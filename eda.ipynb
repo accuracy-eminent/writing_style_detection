{
 "cells": [
  {
   "cell_type": "code",
   "execution_count": null,
   "metadata": {},
   "outputs": [],
   "source": [
    "import pandas as pd\n",
    "import numpy as np\n",
    "import gutenbergpy.textget"
   ]
  },
  {
   "cell_type": "code",
   "execution_count": null,
   "metadata": {},
   "outputs": [],
   "source": [
    "book_authors = {\n",
    "    'Charles Dickens': [46, 98, 1400, 730, 766, 1023, 786, 580, 883]\n",
    "    'Herman Melville': [2701, 11231, 15859, 21816, 34970, 10712, 12384, 4045, 8118, 2694, 13720, 53861]\n",
    "}\n",
    "# Test cases\n",
    "raw_book = gutenbergpy.textget.get_text_by_id(766)\n",
    "clean_book = gutenbergpy.textget.strip_headers(raw_book)"
   ]
  }
 ],
 "metadata": {
  "language_info": {
   "name": "python"
  }
 },
 "nbformat": 4,
 "nbformat_minor": 2
}
