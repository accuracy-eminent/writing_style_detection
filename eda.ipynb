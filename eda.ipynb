{
 "cells": [
  {
   "cell_type": "code",
   "execution_count": null,
   "metadata": {},
   "outputs": [],
   "source": [
    "import pandas as pd\n",
    "import numpy as np\n",
    "import gutenbergpy.textget\n",
    "import re\n",
    "import string\n",
    "from nltk import ngrams\n",
    "from nltk.tokenize import word_tokenize, sent_tokenize"
   ]
  },
  {
   "cell_type": "code",
   "execution_count": null,
   "metadata": {},
   "outputs": [],
   "source": [
    "book_authors = {\n",
    "    'Charles Dickens': [46, 98, 1400, 730, 766, 1023, 786, 580, 883],\n",
    "    'Herman Melville': [2701, 11231, 15859, 21816, 34970, 10712, 12384, 4045, 8118, 2694, 13720, 53861],\n",
    "    'Jane Austen': [1342, 158, 161, 105, 121, 141, 946]\n",
    "}"
   ]
  },
  {
   "cell_type": "code",
   "execution_count": null,
   "metadata": {},
   "outputs": [],
   "source": [
    "book_contents = {}\n",
    "for book_id in [book_id for id_list in book_authors.values() for book_id in id_list]:\n",
    "    # Load in the book\n",
    "    raw_book = gutenbergpy.textget.get_text_by_id(book_id)\n",
    "    clean_book = gutenbergpy.textget.strip_headers(raw_book)\n",
    "    # Convert to string\n",
    "    book = clean_book.decode('UTF-8')\n",
    "    # Remove first characters of the book (remove chapter headings, etc)\n",
    "    #book = book[10000:]\n",
    "    book_contents[book_id] = book\n"
   ]
  },
  {
   "cell_type": "code",
   "execution_count": 21,
   "metadata": {},
   "outputs": [],
   "source": [
    "books_wtoks = {}\n",
    "books_stoks = {}\n",
    "for book_id, book in book_contents.items():\n",
    "    books_wtoks[book_id] = word_tokenize(book)\n",
    "    books_stoks[book_id] = sent_tokenize(book)"
   ]
  },
  {
   "cell_type": "code",
   "execution_count": 33,
   "metadata": {},
   "outputs": [
    {
     "name": "stdout",
     "output_type": "stream",
     "text": [
      "46\n",
      "18.32853470437018\n",
      "12.0\n",
      "16.97572842138022\n",
      "--\n",
      "98\n",
      "29.67627178939879\n",
      "24.0\n",
      "23.17328660637072\n",
      "--\n",
      "1400\n",
      "31.41277128547579\n",
      "27.0\n",
      "22.904760070545574\n",
      "--\n",
      "730\n",
      "30.48169057064388\n",
      "24.0\n",
      "25.032162109863553\n",
      "--\n",
      "766\n",
      "29.669275013376136\n",
      "24.0\n",
      "22.403857317331944\n",
      "--\n",
      "1023\n",
      "27.705058717253838\n",
      "22.0\n",
      "22.428735772942527\n",
      "--\n",
      "786\n",
      "29.39525330899133\n",
      "24.0\n",
      "23.527145344618948\n",
      "--\n",
      "580\n",
      "22.55559558117195\n",
      "15.0\n",
      "21.433893128530872\n",
      "--\n",
      "883\n",
      "29.918962133876008\n",
      "23.0\n",
      "24.728649689621182\n",
      "--\n",
      "2701\n",
      "28.242083195409908\n",
      "22.0\n",
      "25.610818646013584\n",
      "--\n",
      "11231\n",
      "24.566523605150216\n",
      "20.0\n",
      "19.467505542181065\n",
      "--\n",
      "15859\n",
      "31.49157581764123\n",
      "24.0\n",
      "50.61455991428356\n",
      "--\n",
      "21816\n",
      "23.740896358543417\n",
      "16.0\n",
      "22.800505199925098\n",
      "--\n",
      "34970\n",
      "28.1742586365026\n",
      "21.0\n",
      "26.10967199611641\n",
      "--\n",
      "10712\n",
      "29.708668453976767\n",
      "26.0\n",
      "23.107199105599225\n",
      "--\n",
      "12384\n",
      "26.063143445435827\n",
      "22.0\n",
      "20.835700560503344\n",
      "--\n",
      "4045\n",
      "27.881183541377716\n",
      "26.0\n",
      "16.393345517008008\n",
      "--\n",
      "8118\n",
      "36.80811518324607\n",
      "32.0\n",
      "26.5224904484633\n",
      "--\n",
      "2694\n",
      "31.263157894736842\n",
      "24.0\n",
      "27.934490907252638\n",
      "--\n",
      "13720\n",
      "24.739696775571215\n",
      "22.0\n",
      "18.916122951899347\n",
      "--\n",
      "53861\n",
      "21.017578678763822\n",
      "16.0\n",
      "19.081569567803985\n",
      "--\n",
      "1342\n",
      "31.494890510948906\n",
      "25.0\n",
      "24.113014346172296\n",
      "--\n",
      "158\n",
      "31.628111769686708\n",
      "23.0\n",
      "28.709150070828816\n",
      "--\n",
      "161\n",
      "35.36038306451613\n",
      "28.0\n",
      "27.835013324745248\n",
      "--\n",
      "105\n",
      "30.939393939393938\n",
      "23.0\n",
      "27.344927578605056\n",
      "--\n",
      "121\n",
      "33.27405781192829\n",
      "26.0\n",
      "27.765613321068283\n",
      "--\n",
      "141\n",
      "32.68993335671694\n",
      "24.0\n",
      "28.487678797043852\n",
      "--\n",
      "946\n",
      "29.49386845039019\n",
      "25.0\n",
      "21.409794075597887\n",
      "--\n"
     ]
    }
   ],
   "source": [
    "book_stats = {}\n",
    "for book_id in book_contents.keys():\n",
    "    book_stats[book_id] = {}\n",
    "    book_stok = books_stoks[book_id]\n",
    "    book_wtok = books_wtoks[book_id]\n",
    "    (book_stats[book_id])['sent_chars'] = [len(sent) for sent in book_stok]\n",
    "    (book_stats[book_id])['sent_words'] = [len(word_tokenize(sent)) for sent in book_stok]\n",
    "    (book_stats[book_id])['word_chars'] = [len(word) for word in book_wtok]\n",
    "    book_stats[book_id]['']\n",
    "    print(np.mean(sent_words))\n",
    "    print(np.median(sent_words))\n",
    "    print(np.std(sent_words))\n",
    "    print(\"--\")"
   ]
  },
  {
   "cell_type": "code",
   "execution_count": 30,
   "metadata": {},
   "outputs": [
    {
     "data": {
      "text/plain": [
       "21.409794075597887"
      ]
     },
     "execution_count": 30,
     "metadata": {},
     "output_type": "execute_result"
    }
   ],
   "source": [
    "np.mean(sent_words)"
   ]
  },
  {
   "cell_type": "code",
   "execution_count": null,
   "metadata": {},
   "outputs": [],
   "source": [
    "grams = list(ngrams(book_contents[98], 2))"
   ]
  },
  {
   "cell_type": "code",
   "execution_count": null,
   "metadata": {},
   "outputs": [],
   "source": [
    "sorted(grams)[0:10]"
   ]
  },
  {
   "cell_type": "code",
   "execution_count": null,
   "metadata": {},
   "outputs": [],
   "source": [
    "list(grams)\n",
    "new_grams = grams.copy()\n",
    "gram_count = {}\n",
    "for i in range(0, len(grams)-1):\n",
    "    gram = new_grams.pop(0)\n",
    "    if gram in new_grams:\n",
    "        if gram not in gram_count:\n",
    "            gram_count[gram] = 0\n",
    "        gram_count[gram] += 1"
   ]
  },
  {
   "cell_type": "code",
   "execution_count": null,
   "metadata": {},
   "outputs": [],
   "source": [
    "dict(sorted(gram_count.items(), key=lambda item: -item[1]))"
   ]
  },
  {
   "cell_type": "code",
   "execution_count": null,
   "metadata": {},
   "outputs": [],
   "source": []
  }
 ],
 "metadata": {
  "kernelspec": {
   "display_name": "Python 3",
   "language": "python",
   "name": "python3"
  },
  "language_info": {
   "codemirror_mode": {
    "name": "ipython",
    "version": 3
   },
   "file_extension": ".py",
   "mimetype": "text/x-python",
   "name": "python",
   "nbconvert_exporter": "python",
   "pygments_lexer": "ipython3",
   "version": "3.10.4"
  }
 },
 "nbformat": 4,
 "nbformat_minor": 2
}
