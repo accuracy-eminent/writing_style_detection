{
 "cells": [
  {
   "cell_type": "code",
   "execution_count": 2,
   "metadata": {},
   "outputs": [],
   "source": [
    "import pandas as pd\n",
    "import numpy as np\n",
    "import gutenbergpy.textget\n",
    "import re\n",
    "import string\n",
    "from nltk import ngrams\n",
    "from nltk.tokenize import word_tokenize, sent_tokenize"
   ]
  },
  {
   "cell_type": "code",
   "execution_count": 4,
   "metadata": {},
   "outputs": [],
   "source": [
    "book_authors = {\n",
    "    'Charles Dickens': [46, 98, 1400, 730, 766, 1023, 786, 580, 883],\n",
    "    'Herman Melville': [2701, 11231, 15859, 21816, 34970, 10712, 12384, 4045, 8118, 2694, 13720, 53861],\n",
    "    'Jane Austen': [1342, 158, 161, 105, 121, 141, 946]\n",
    "}"
   ]
  },
  {
   "cell_type": "code",
   "execution_count": 5,
   "metadata": {},
   "outputs": [],
   "source": [
    "book_contents = {}\n",
    "for book_id in [book_id for id_list in book_authors.values() for book_id in id_list]:\n",
    "    # Load in the book\n",
    "    raw_book = gutenbergpy.textget.get_text_by_id(book_id)\n",
    "    clean_book = gutenbergpy.textget.strip_headers(raw_book)\n",
    "    # Convert to string\n",
    "    book = clean_book.decode('UTF-8')\n",
    "    # Remove first characters of the book (remove chapter headings, etc)\n",
    "    #book = book[10000:]\n",
    "    book_contents[book_id] = book\n"
   ]
  },
  {
   "cell_type": "code",
   "execution_count": 12,
   "metadata": {},
   "outputs": [],
   "source": [
    "books_wtoks = {}\n",
    "books_stoks = {}\n",
    "for book_id, book in book_contents.items():\n",
    "    books_wtoks[book_id] = word_tokenize(book)"
   ]
  },
  {
   "cell_type": "code",
   "execution_count": 16,
   "metadata": {},
   "outputs": [
    {
     "name": "stdout",
     "output_type": "stream",
     "text": [
      "28\n"
     ]
    }
   ],
   "source": [
    "len(books_wtoks)"
   ]
  },
  {
   "cell_type": "code",
   "execution_count": null,
   "metadata": {},
   "outputs": [],
   "source": [
    "grams = list(ngrams(book_contents[98], 2))"
   ]
  },
  {
   "cell_type": "code",
   "execution_count": null,
   "metadata": {},
   "outputs": [],
   "source": [
    "sorted(grams)[0:10]"
   ]
  },
  {
   "cell_type": "code",
   "execution_count": null,
   "metadata": {},
   "outputs": [],
   "source": [
    "list(grams)\n",
    "new_grams = grams.copy()\n",
    "gram_count = {}\n",
    "for i in range(0, len(grams)-1):\n",
    "    gram = new_grams.pop(0)\n",
    "    if gram in new_grams:\n",
    "        if gram not in gram_count:\n",
    "            gram_count[gram] = 0\n",
    "        gram_count[gram] += 1"
   ]
  },
  {
   "cell_type": "code",
   "execution_count": null,
   "metadata": {},
   "outputs": [],
   "source": [
    "dict(sorted(gram_count.items(), key=lambda item: -item[1]))"
   ]
  },
  {
   "cell_type": "code",
   "execution_count": null,
   "metadata": {},
   "outputs": [],
   "source": []
  }
 ],
 "metadata": {
  "kernelspec": {
   "display_name": "Python 3",
   "language": "python",
   "name": "python3"
  },
  "language_info": {
   "codemirror_mode": {
    "name": "ipython",
    "version": 3
   },
   "file_extension": ".py",
   "mimetype": "text/x-python",
   "name": "python",
   "nbconvert_exporter": "python",
   "pygments_lexer": "ipython3",
   "version": "3.10.4"
  }
 },
 "nbformat": 4,
 "nbformat_minor": 2
}
